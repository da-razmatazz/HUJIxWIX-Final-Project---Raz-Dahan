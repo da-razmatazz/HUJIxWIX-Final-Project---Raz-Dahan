{
 "cells": [
  {
   "cell_type": "markdown",
   "id": "bad91ab2",
   "metadata": {},
   "source": [
    "Queries & Slicing notebook"
   ]
  },
  {
   "cell_type": "code",
   "execution_count": 2,
   "id": "74d798dc",
   "metadata": {},
   "outputs": [],
   "source": [
    "import pandas as pd\n",
    "import numpy as np\n",
    "joined = pd.read_csv(\"joined.csv\")"
   ]
  },
  {
   "cell_type": "code",
   "execution_count": 4,
   "id": "4c9ad1c1",
   "metadata": {},
   "outputs": [
    {
     "name": "stdout",
     "output_type": "stream",
     "text": [
      "<class 'pandas.core.frame.DataFrame'>\n",
      "RangeIndex: 258871 entries, 0 to 258870\n",
      "Data columns (total 14 columns):\n",
      " #   Column                Non-Null Count   Dtype  \n",
      "---  ------                --------------   -----  \n",
      " 0   agent_id              258871 non-null  object \n",
      " 1   agent_type            258871 non-null  object \n",
      " 2   agent_language        258871 non-null  object \n",
      " 3   start_date_at_quick   258871 non-null  object \n",
      " 4   work_period_days      258871 non-null  int64  \n",
      " 5   interaction_id        258811 non-null  object \n",
      " 6   interaction_date_new  258811 non-null  object \n",
      " 7   channel               258811 non-null  object \n",
      " 8   overall_service_ans   24531 non-null   float64\n",
      " 9   nps_ans               23656 non-null   float64\n",
      " 10  nps_reason            23114 non-null   object \n",
      " 11  is_offer_exist        110687 non-null  float64\n",
      " 12  is_offer_suggested    110687 non-null  float64\n",
      " 13  is_offer_implemented  110687 non-null  float64\n",
      "dtypes: float64(5), int64(1), object(8)\n",
      "memory usage: 27.7+ MB\n"
     ]
    }
   ],
   "source": [
    "joined.info()"
   ]
  },
  {
   "cell_type": "code",
   "execution_count": 10,
   "id": "1091f2df",
   "metadata": {
    "scrolled": true
   },
   "outputs": [
    {
     "data": {
      "text/html": [
       "<div>\n",
       "<style scoped>\n",
       "    .dataframe tbody tr th:only-of-type {\n",
       "        vertical-align: middle;\n",
       "    }\n",
       "\n",
       "    .dataframe tbody tr th {\n",
       "        vertical-align: top;\n",
       "    }\n",
       "\n",
       "    .dataframe thead th {\n",
       "        text-align: right;\n",
       "    }\n",
       "</style>\n",
       "<table border=\"1\" class=\"dataframe\">\n",
       "  <thead>\n",
       "    <tr style=\"text-align: right;\">\n",
       "      <th></th>\n",
       "      <th>agent_id</th>\n",
       "      <th>agent_type</th>\n",
       "    </tr>\n",
       "  </thead>\n",
       "  <tbody>\n",
       "    <tr>\n",
       "      <th>0</th>\n",
       "      <td>06780f0c-59d6-4a60-8296-61d1af20c265</td>\n",
       "      <td>General CC Agent</td>\n",
       "    </tr>\n",
       "    <tr>\n",
       "      <th>1</th>\n",
       "      <td>8cde9455-2d02-4f43-92a7-3099f2daeb29</td>\n",
       "      <td>General CC Agent</td>\n",
       "    </tr>\n",
       "    <tr>\n",
       "      <th>2</th>\n",
       "      <td>06780f0c-59d6-4a60-8296-61d1af20c265</td>\n",
       "      <td>General CC Agent</td>\n",
       "    </tr>\n",
       "    <tr>\n",
       "      <th>3</th>\n",
       "      <td>881a27d6-fe9d-4655-8fff-dd055c84b9b7</td>\n",
       "      <td>General CC Agent</td>\n",
       "    </tr>\n",
       "    <tr>\n",
       "      <th>4</th>\n",
       "      <td>881a27d6-fe9d-4655-8fff-dd055c84b9b7</td>\n",
       "      <td>General CC Agent</td>\n",
       "    </tr>\n",
       "    <tr>\n",
       "      <th>...</th>\n",
       "      <td>...</td>\n",
       "      <td>...</td>\n",
       "    </tr>\n",
       "    <tr>\n",
       "      <th>258866</th>\n",
       "      <td>e07dd675-6864-4146-a73c-12a8097915b7</td>\n",
       "      <td>General CC Agent</td>\n",
       "    </tr>\n",
       "    <tr>\n",
       "      <th>258867</th>\n",
       "      <td>d2de9a2c-37bd-4c9b-bee2-0da20e682049</td>\n",
       "      <td>General CC Agent</td>\n",
       "    </tr>\n",
       "    <tr>\n",
       "      <th>258868</th>\n",
       "      <td>9b9165ad-f266-4601-b2f1-7befd9033614</td>\n",
       "      <td>General CC Agent</td>\n",
       "    </tr>\n",
       "    <tr>\n",
       "      <th>258869</th>\n",
       "      <td>fc6d5242-a6f6-4c0a-a157-24252684e3db</td>\n",
       "      <td>Marketing Agent</td>\n",
       "    </tr>\n",
       "    <tr>\n",
       "      <th>258870</th>\n",
       "      <td>b6089152-4d72-443a-b93e-484b98f11815</td>\n",
       "      <td>Marketing Agent</td>\n",
       "    </tr>\n",
       "  </tbody>\n",
       "</table>\n",
       "<p>258871 rows × 2 columns</p>\n",
       "</div>"
      ],
      "text/plain": [
       "                                    agent_id        agent_type\n",
       "0       06780f0c-59d6-4a60-8296-61d1af20c265  General CC Agent\n",
       "1       8cde9455-2d02-4f43-92a7-3099f2daeb29  General CC Agent\n",
       "2       06780f0c-59d6-4a60-8296-61d1af20c265  General CC Agent\n",
       "3       881a27d6-fe9d-4655-8fff-dd055c84b9b7  General CC Agent\n",
       "4       881a27d6-fe9d-4655-8fff-dd055c84b9b7  General CC Agent\n",
       "...                                      ...               ...\n",
       "258866  e07dd675-6864-4146-a73c-12a8097915b7  General CC Agent\n",
       "258867  d2de9a2c-37bd-4c9b-bee2-0da20e682049  General CC Agent\n",
       "258868  9b9165ad-f266-4601-b2f1-7befd9033614  General CC Agent\n",
       "258869  fc6d5242-a6f6-4c0a-a157-24252684e3db   Marketing Agent\n",
       "258870  b6089152-4d72-443a-b93e-484b98f11815   Marketing Agent\n",
       "\n",
       "[258871 rows x 2 columns]"
      ]
     },
     "execution_count": 10,
     "metadata": {},
     "output_type": "execute_result"
    }
   ],
   "source": [
    "# slicing 'joined' table to get the first 2 columns\n",
    "types = joined.iloc[:,:2]\n",
    "types"
   ]
  },
  {
   "cell_type": "code",
   "execution_count": 24,
   "id": "01a210ca",
   "metadata": {
    "scrolled": false
   },
   "outputs": [
    {
     "data": {
      "text/html": [
       "<div>\n",
       "<style scoped>\n",
       "    .dataframe tbody tr th:only-of-type {\n",
       "        vertical-align: middle;\n",
       "    }\n",
       "\n",
       "    .dataframe tbody tr th {\n",
       "        vertical-align: top;\n",
       "    }\n",
       "\n",
       "    .dataframe thead th {\n",
       "        text-align: right;\n",
       "    }\n",
       "</style>\n",
       "<table border=\"1\" class=\"dataframe\">\n",
       "  <thead>\n",
       "    <tr style=\"text-align: right;\">\n",
       "      <th></th>\n",
       "      <th>agent_id</th>\n",
       "      <th>agent_type</th>\n",
       "    </tr>\n",
       "  </thead>\n",
       "  <tbody>\n",
       "    <tr>\n",
       "      <th>0</th>\n",
       "      <td>06780f0c-59d6-4a60-8296-61d1af20c265</td>\n",
       "      <td>General CC Agent</td>\n",
       "    </tr>\n",
       "    <tr>\n",
       "      <th>1</th>\n",
       "      <td>8cde9455-2d02-4f43-92a7-3099f2daeb29</td>\n",
       "      <td>General CC Agent</td>\n",
       "    </tr>\n",
       "    <tr>\n",
       "      <th>3</th>\n",
       "      <td>881a27d6-fe9d-4655-8fff-dd055c84b9b7</td>\n",
       "      <td>General CC Agent</td>\n",
       "    </tr>\n",
       "    <tr>\n",
       "      <th>25</th>\n",
       "      <td>fbe3090e-05f6-465e-afc9-9594c39ca876</td>\n",
       "      <td>General CC Agent</td>\n",
       "    </tr>\n",
       "    <tr>\n",
       "      <th>26</th>\n",
       "      <td>184d0b21-72eb-43d2-b6bb-4f2e975ebeae</td>\n",
       "      <td>General CC Agent</td>\n",
       "    </tr>\n",
       "    <tr>\n",
       "      <th>...</th>\n",
       "      <td>...</td>\n",
       "      <td>...</td>\n",
       "    </tr>\n",
       "    <tr>\n",
       "      <th>258866</th>\n",
       "      <td>e07dd675-6864-4146-a73c-12a8097915b7</td>\n",
       "      <td>General CC Agent</td>\n",
       "    </tr>\n",
       "    <tr>\n",
       "      <th>258867</th>\n",
       "      <td>d2de9a2c-37bd-4c9b-bee2-0da20e682049</td>\n",
       "      <td>General CC Agent</td>\n",
       "    </tr>\n",
       "    <tr>\n",
       "      <th>258868</th>\n",
       "      <td>9b9165ad-f266-4601-b2f1-7befd9033614</td>\n",
       "      <td>General CC Agent</td>\n",
       "    </tr>\n",
       "    <tr>\n",
       "      <th>258869</th>\n",
       "      <td>fc6d5242-a6f6-4c0a-a157-24252684e3db</td>\n",
       "      <td>Marketing Agent</td>\n",
       "    </tr>\n",
       "    <tr>\n",
       "      <th>258870</th>\n",
       "      <td>b6089152-4d72-443a-b93e-484b98f11815</td>\n",
       "      <td>Marketing Agent</td>\n",
       "    </tr>\n",
       "  </tbody>\n",
       "</table>\n",
       "<p>675 rows × 2 columns</p>\n",
       "</div>"
      ],
      "text/plain": [
       "                                    agent_id        agent_type\n",
       "0       06780f0c-59d6-4a60-8296-61d1af20c265  General CC Agent\n",
       "1       8cde9455-2d02-4f43-92a7-3099f2daeb29  General CC Agent\n",
       "3       881a27d6-fe9d-4655-8fff-dd055c84b9b7  General CC Agent\n",
       "25      fbe3090e-05f6-465e-afc9-9594c39ca876  General CC Agent\n",
       "26      184d0b21-72eb-43d2-b6bb-4f2e975ebeae  General CC Agent\n",
       "...                                      ...               ...\n",
       "258866  e07dd675-6864-4146-a73c-12a8097915b7  General CC Agent\n",
       "258867  d2de9a2c-37bd-4c9b-bee2-0da20e682049  General CC Agent\n",
       "258868  9b9165ad-f266-4601-b2f1-7befd9033614  General CC Agent\n",
       "258869  fc6d5242-a6f6-4c0a-a157-24252684e3db   Marketing Agent\n",
       "258870  b6089152-4d72-443a-b93e-484b98f11815   Marketing Agent\n",
       "\n",
       "[675 rows x 2 columns]"
      ]
     },
     "execution_count": 24,
     "metadata": {},
     "output_type": "execute_result"
    }
   ],
   "source": [
    "# creating a DF of the 2 sliced columns, but only with their unique values.\n",
    "unique_types = types[['agent_id','agent_type']].drop_duplicates()\n",
    "unique_types"
   ]
  },
  {
   "cell_type": "code",
   "execution_count": 25,
   "id": "b3ac1390",
   "metadata": {},
   "outputs": [
    {
     "name": "stdout",
     "output_type": "stream",
     "text": [
      "<class 'pandas.core.frame.DataFrame'>\n",
      "Int64Index: 675 entries, 0 to 258870\n",
      "Data columns (total 2 columns):\n",
      " #   Column      Non-Null Count  Dtype \n",
      "---  ------      --------------  ----- \n",
      " 0   agent_id    675 non-null    object\n",
      " 1   agent_type  675 non-null    object\n",
      "dtypes: object(2)\n",
      "memory usage: 15.8+ KB\n"
     ]
    }
   ],
   "source": [
    "unique_types.info()"
   ]
  },
  {
   "cell_type": "code",
   "execution_count": 40,
   "id": "1ec1d856",
   "metadata": {
    "scrolled": true
   },
   "outputs": [
    {
     "data": {
      "text/plain": [
       "General CC Agent        569\n",
       "Billing Agent            45\n",
       "Marketing Agent          41\n",
       "Advenced Quick Agent     20\n",
       "Name: agent_type, dtype: int64"
      ]
     },
     "execution_count": 40,
     "metadata": {},
     "output_type": "execute_result"
    }
   ],
   "source": [
    "# counting number of agent types\n",
    "unique_types['agent_type'].value_counts()"
   ]
  },
  {
   "cell_type": "code",
   "execution_count": 41,
   "id": "fb25e1e1",
   "metadata": {},
   "outputs": [],
   "source": [
    "unique_types = unique_types['agent_type'].value_counts()"
   ]
  },
  {
   "cell_type": "code",
   "execution_count": 42,
   "id": "3e13bbd5",
   "metadata": {},
   "outputs": [],
   "source": [
    "# exporting the above to excel as a table\n",
    "unique_types.to_excel('unique_types.xlsx')"
   ]
  }
 ],
 "metadata": {
  "kernelspec": {
   "display_name": "Python 3 (ipykernel)",
   "language": "python",
   "name": "python3"
  },
  "language_info": {
   "codemirror_mode": {
    "name": "ipython",
    "version": 3
   },
   "file_extension": ".py",
   "mimetype": "text/x-python",
   "name": "python",
   "nbconvert_exporter": "python",
   "pygments_lexer": "ipython3",
   "version": "3.9.13"
  }
 },
 "nbformat": 4,
 "nbformat_minor": 5
}
